{
 "cells": [
  {
   "cell_type": "code",
   "execution_count": null,
   "id": "a4e9db3d-d412-4268-9d00-5c996cca43d5",
   "metadata": {},
   "outputs": [],
   "source": [
    "# import datasets\n",
    "library(datasets)"
   ]
  },
  {
   "cell_type": "code",
   "execution_count": null,
   "id": "38ab2a46-ca69-4dbf-a729-cce41be685e6",
   "metadata": {},
   "outputs": [],
   "source": [
    "# Format the dataset\n",
    "dataset = USJudgeRatings # Judge performance metrics\n",
    "head(dataset)"
   ]
  },
  {
   "cell_type": "code",
   "execution_count": null,
   "id": "864b05cb-d054-43ad-9e32-1cc5fb6b4381",
   "metadata": {},
   "outputs": [],
   "source": [
    "x <- as.matrix(dataset[, c(1:11)]) # First 11 dimensions are Features\n",
    "y <- as.matrix(dataset[, 12]) # last dimeions is the Output (Retention rating)\n",
    "reg <- lm(y ~ x)"
   ]
  },
  {
   "cell_type": "code",
   "execution_count": null,
   "id": "2523fcd5-d29a-4529-91a9-47c7430c963d",
   "metadata": {},
   "outputs": [],
   "source": [
    "# So much useful information!\n",
    "summary(reg)"
   ]
  },
  {
   "cell_type": "code",
   "execution_count": null,
   "id": "9dbdfea5-21f9-4c03-9e5a-4f81c0e4a3a9",
   "metadata": {},
   "outputs": [],
   "source": [
    "# We write this file to a csv so we can import it into Python\n",
    "write.csv(USJudgeRatings, file=\"data/USJudgeRatings.csv\")"
   ]
  }
 ],
 "metadata": {
  "kernelspec": {
   "display_name": "R",
   "language": "R",
   "name": "ir"
  },
  "language_info": {
   "codemirror_mode": "r",
   "file_extension": ".r",
   "mimetype": "text/x-r-source",
   "name": "R",
   "pygments_lexer": "r",
   "version": "4.4.3"
  }
 },
 "nbformat": 4,
 "nbformat_minor": 5
}
