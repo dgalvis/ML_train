{
 "cells": [
  {
   "cell_type": "code",
   "execution_count": null,
   "id": "48c8dafe-9a1d-46a1-a4b7-150483431bff",
   "metadata": {},
   "outputs": [],
   "source": [
    "# Import modules\n",
    "import pandas as pd\n",
    "\n",
    "# My modules\n",
    "from modules.lin_reg import LinearRegression "
   ]
  },
  {
   "cell_type": "code",
   "execution_count": null,
   "id": "8119a91b-33a6-42c8-8cd9-e98948a59145",
   "metadata": {},
   "outputs": [],
   "source": [
    "# First we load in the dataset (which we borrowed from R datasets library)\n",
    "df = pd.read_csv(\"data/USJudgeRatings.csv\", index_col=0)\n",
    "print(df.head())"
   ]
  },
  {
   "cell_type": "code",
   "execution_count": null,
   "id": "35a3ac9a-c242-423a-9d21-13abc07f64ab",
   "metadata": {},
   "outputs": [],
   "source": [
    "X = df.to_numpy()[:, :-1]\n",
    "y = df.to_numpy()[:, -1]"
   ]
  },
  {
   "cell_type": "code",
   "execution_count": null,
   "id": "dc62f925-8eef-4d7e-bbb8-feeadc9f4522",
   "metadata": {},
   "outputs": [],
   "source": [
    "# Hand written Linear Regression object\n",
    "model = LinearRegression()\n",
    "model.fit(X,y)"
   ]
  },
  {
   "cell_type": "code",
   "execution_count": null,
   "id": "e42c8ce1-0147-4891-a258-271a7f530643",
   "metadata": {},
   "outputs": [],
   "source": [
    "model.summary()"
   ]
  },
  {
   "cell_type": "code",
   "execution_count": null,
   "id": "850c1a19-6bdd-47fa-8683-06125fe86789",
   "metadata": {},
   "outputs": [],
   "source": []
  }
 ],
 "metadata": {
  "kernelspec": {
   "display_name": "Python 3 (ipykernel)",
   "language": "python",
   "name": "python3"
  },
  "language_info": {
   "codemirror_mode": {
    "name": "ipython",
    "version": 3
   },
   "file_extension": ".py",
   "mimetype": "text/x-python",
   "name": "python",
   "nbconvert_exporter": "python",
   "pygments_lexer": "ipython3",
   "version": "3.13.5"
  }
 },
 "nbformat": 4,
 "nbformat_minor": 5
}
